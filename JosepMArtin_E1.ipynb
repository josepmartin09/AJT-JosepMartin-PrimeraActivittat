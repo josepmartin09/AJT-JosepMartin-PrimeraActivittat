{
 "cells": [
  {
   "cell_type": "markdown",
   "id": "5c3de83c",
   "metadata": {},
   "source": [
    "Exercici 1: Enters"
   ]
  },
  {
   "cell_type": "code",
   "execution_count": 11,
   "id": "fbef4ed6",
   "metadata": {},
   "outputs": [
    {
     "name": "stdout",
     "output_type": "stream",
     "text": [
      "8.35\n",
      "41.75\n",
      "2955.9\n"
     ]
    }
   ],
   "source": [
    "preu_entrada = 8.35\n",
    "nombre_entrades = 1\n",
    "cost_total=preu_entrada*nombre_entrades\n",
    "print(cost_total)\n",
    "preu_entrada = 8.35\n",
    "nombre_entrades = 5\n",
    "cost_total=preu_entrada*nombre_entrades\n",
    "print(cost_total)\n",
    "preu_entrada = 8.35\n",
    "nombre_entrades = 354\n",
    "cost_total=preu_entrada*nombre_entrades\n",
    "print(cost_total)"
   ]
  },
  {
   "cell_type": "code",
   "execution_count": 18,
   "id": "de685c5d",
   "metadata": {},
   "outputs": [
    {
     "name": "stdout",
     "output_type": "stream",
     "text": [
      "54.108000000000004\n"
     ]
    }
   ],
   "source": [
    "preu_entrada=8.35\n",
    "nombre_entrades=10\n",
    "nombre_entrades_retornades=4\n",
    "percentatge=0.88\n",
    "\n",
    "diners_retornats=(preu_entrada*percentatge)*nombre_entrades_retornades\n",
    "\n",
    "\n",
    "diners_totals=preu_entrada*nombre_entrades- diners_retornats\n",
    "\n",
    "print(diners_totals)"
   ]
  },
  {
   "cell_type": "markdown",
   "id": "4e97285d",
   "metadata": {},
   "source": [
    "Exercici 2"
   ]
  },
  {
   "cell_type": "code",
   "execution_count": 21,
   "id": "d9eedddf",
   "metadata": {},
   "outputs": [
    {
     "name": "stdout",
     "output_type": "stream",
     "text": [
      "58.51985059900009\n"
     ]
    }
   ],
   "source": [
    "P=1000\n",
    "I_inicials=10\n",
    "R=0.01\n",
    "T=5\n",
    "\n",
    "total_infectats= I_inicials+(P-I_inicials)*(1-(1-R)**T)\n",
    "\n",
    "print(total_infectats)"
   ]
  },
  {
   "cell_type": "markdown",
   "id": "ed8b79fc",
   "metadata": {},
   "source": [
    "Exercici 3"
   ]
  },
  {
   "cell_type": "code",
   "execution_count": 36,
   "id": "0c4be767",
   "metadata": {},
   "outputs": [
    {
     "name": "stdout",
     "output_type": "stream",
     "text": [
      "Pel radi 2,el perimetre es 12.57m, l'area es 12.57 m2, i el volum es 33.51m3\n",
      "Pel radi 4,el perimetre es 25.13m, l'area es 50.27 m2, i el volum es 268.08m3\n"
     ]
    }
   ],
   "source": [
    "import math\n",
    "\n",
    "math.pi\n",
    "\n",
    "r=2\n",
    "P= 2*math.pi*r\n",
    "a=math.pi*r**2\n",
    "v=4/3*math.pi*r**3\n",
    "\n",
    "print(f\"Pel radi {round(r,2)},el perimetre es {round(P,2)}m, l'area es {round(a,2)} m2, i el volum es {round(v,2)}m3\")\n",
    "\n",
    "r=4\n",
    "P= 2*math.pi*r\n",
    "a=math.pi*r**2\n",
    "v=4/3*math.pi*r**3\n",
    "\n",
    "print(f\"Pel radi {round(r,2)},el perimetre es {round(P,2)}m, l'area es {round(a,2)} m2, i el volum es {round(v,2)}m3\")\n",
    "\n"
   ]
  },
  {
   "cell_type": "markdown",
   "id": "320328ec",
   "metadata": {},
   "source": [
    "Exercici 4"
   ]
  },
  {
   "cell_type": "code",
   "execution_count": 47,
   "id": "7c11ee58",
   "metadata": {},
   "outputs": [
    {
     "name": "stdout",
     "output_type": "stream",
     "text": [
      "Hola, el meu nom és Josep Martin.\n",
      " La primera lletra és J.\n",
      " L'última lletra és n.\n",
      " Les tres lletres del mig són sep.\n",
      " El meu nom en majúscules és JOSEP MARTIN.\n",
      " El meu nom en minúscules és josep martin.\n",
      " I la llargada del meu nom és 12 caràcters.\n"
     ]
    }
   ],
   "source": [
    "nom= \"Josep Martin\"\n",
    "primera_lletra=nom[0]\n",
    "ultima_lletra=nom[-1]\n",
    "tres_lletres=nom[2:5]\n",
    "nom_M = nom.upper()\n",
    "nom_m = nom.lower()\n",
    "llargada_nom=len(nom)\n",
    "print(f\"Hola, el meu nom és {nom}.\\n La primera lletra és {primera_lletra}.\\n L'última lletra és {ultima_lletra}.\\n Les tres lletres del mig són {tres_lletres}.\\n El meu nom en majúscules és {nom_M}.\\n El meu nom en minúscules és {nom_m}.\\n I la llargada del meu nom és {llargada_nom} caràcters.\")\n"
   ]
  },
  {
   "cell_type": "code",
   "execution_count": null,
   "id": "ae51e9f3",
   "metadata": {},
   "outputs": [],
   "source": [
    "print(\"hola\")"
   ]
  }
 ],
 "metadata": {
  "kernelspec": {
   "display_name": "Python 3",
   "language": "python",
   "name": "python3"
  },
  "language_info": {
   "codemirror_mode": {
    "name": "ipython",
    "version": 3
   },
   "file_extension": ".py",
   "mimetype": "text/x-python",
   "name": "python",
   "nbconvert_exporter": "python",
   "pygments_lexer": "ipython3",
   "version": "3.13.7"
  }
 },
 "nbformat": 4,
 "nbformat_minor": 5
}
